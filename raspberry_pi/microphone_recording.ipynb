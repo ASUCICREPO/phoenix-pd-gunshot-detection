{
 "cells": [
  {
   "cell_type": "markdown",
   "metadata": {},
   "source": [
    "## Package Imports"
   ]
  },
  {
   "cell_type": "code",
   "execution_count": null,
   "metadata": {},
   "outputs": [],
   "source": [
    "import pyaudio\n",
    "import librosa\n",
    "import logging\n",
    "import time\n",
    "import numpy as np\n",
    "from queue import Queue"
   ]
  },
  {
   "cell_type": "markdown",
   "metadata": {},
   "source": [
    "## Configuring the Logger"
   ]
  },
  {
   "cell_type": "code",
   "execution_count": null,
   "metadata": {},
   "outputs": [],
   "source": [
    "logger = logging.getLogger('debugger')\n",
    "logger.setLevel(logging.DEBUG)\n",
    "ch = logging.FileHandler('output.log')\n",
    "ch.setLevel(logging.DEBUG)\n",
    "formatter = logging.Formatter('%(asctime)s - %(name)s - %(levelname)s - %(message)s')\n",
    "ch.setFormatter(formatter)\n",
    "logger.addHandler(ch)"
   ]
  },
  {
   "cell_type": "markdown",
   "metadata": {},
   "source": [
    "## Variable Initializations"
   ]
  },
  {
   "cell_type": "code",
   "execution_count": null,
   "metadata": {},
   "outputs": [],
   "source": [
    "AUDIO_FORMAT = pyaudio.paFloat32\n",
    "AUDIO_RATE = 44100\n",
    "NUMBER_OF_AUDIO_CHANNELS = 1\n",
    "AUDIO_DEVICE_INDEX = 6\n",
    "NUMBER_OF_FRAMES_PER_BUFFER = 4410\n",
    "SAMPLE_DURATION = 2\n",
    "sound_data = np.zeros(0, dtype = \"float32\")\n",
    "audio_sample_counter = 1\n",
    "audio_capture_queue = Queue()"
   ]
  },
  {
   "cell_type": "markdown",
   "metadata": {},
   "source": [
    "### WAV File Composition Function"
   ]
  },
  {
   "cell_type": "code",
   "execution_count": null,
   "metadata": {},
   "outputs": [],
   "source": [
    "# Saves a two-second audio sample as a WAV file\n",
    "def create_wav_file(microphone_data, index, timestamp, model_used = \"\"):\n",
    "    librosa.output.write_wav(\"~/Audio Capture System Recordings/Audio Sample #\"\n",
    "                            + str(index) + \" (\"\n",
    "                            + str(timestamp) + \").wav\", microphone_data, 22050)"
   ]
  },
  {
   "cell_type": "markdown",
   "metadata": {},
   "source": [
    "## Defining Threads"
   ]
  },
  {
   "cell_type": "markdown",
   "metadata": {},
   "source": [
    "### Callback Thread"
   ]
  },
  {
   "cell_type": "code",
   "execution_count": null,
   "metadata": {},
   "outputs": [],
   "source": [
    "def callback(in_data, frame_count, time_info, status):\n",
    "    global sound_data\n",
    "    sound_buffer = np.frombuffer(in_data, dtype = \"float32\")\n",
    "    sound_data = np.append(sound_data, sound_buffer)\n",
    "    if len(sound_data) >= AUDIO_RATE * 2:\n",
    "        audio_capture_queue.put(sound_data)\n",
    "        current_time = time.ctime(time.time())\n",
    "        audio_capture_queue.put(current_time)\n",
    "        sound_data = np.zeros(0, dtype = \"float32\")\n",
    "    return sound_buffer, pyaudio.paContinue\n",
    "\n",
    "pa = pyaudio.PyAudio()\n",
    "\n",
    "stream = pa.open(format = AUDIO_FORMAT,\n",
    "                 rate = AUDIO_RATE,\n",
    "                 channels = NUMBER_OF_AUDIO_CHANNELS,\n",
    "                 input_device_index = AUDIO_DEVICE_INDEX,\n",
    "                 frames_per_buffer = NUMBER_OF_FRAMES_PER_BUFFER,\n",
    "                 input = True,\n",
    "                 stream_callback = callback)\n",
    "\n",
    "# Starts the callback thread\n",
    "stream.start_stream()\n",
    "logger.debug(\"--- Listening to Audio Stream ---\")"
   ]
  },
  {
   "cell_type": "markdown",
   "metadata": {},
   "source": [
    "### Main (Audio Capture) Thread"
   ]
  },
  {
   "cell_type": "code",
   "execution_count": null,
   "metadata": {
    "pycharm": {
     "name": "#%%\n"
    }
   },
   "outputs": [],
   "source": [
    "# This thread will run indefinitely\n",
    "while True:\n",
    "    # Gets a sample and its timestamp from the audio capture queue\n",
    "    microphone_data = np.array(audio_capture_queue.get(), dtype = \"float32\")\n",
    "    time_of_sample_occurrence = audio_capture_queue.get()\n",
    "    \n",
    "    # Cleans up the global NumPy audio data source\n",
    "    sound_data = np.zeros(0, dtype = \"float32\")\n",
    "        \n",
    "    # Post-processes the microphone data\n",
    "    modified_microphone_data = librosa.resample(y = microphone_data, orig_sr = AUDIO_RATE, target_sr = 22050)\n",
    "    modified_microphone_data = modified_microphone_data[:44100]\n",
    "            \n",
    "    # Makes a WAV file of the audio sample\n",
    "    create_wav_file(modified_microphone_data, audio_sample_counter, time_of_sample_occurrence)\n",
    "\n",
    "    # Increments the counter for audio sample file names\n",
    "    audio_sample_counter += 1"
   ]
  },
  {
   "cell_type": "code",
   "execution_count": null,
   "metadata": {},
   "outputs": [],
   "source": []
  }
 ],
 "metadata": {
  "kernelspec": {
   "display_name": "gunshot_detection",
   "language": "python",
   "name": "gunshot_detection"
  },
  "language_info": {
   "codemirror_mode": {
    "name": "ipython",
    "version": 3
   },
   "file_extension": ".py",
   "mimetype": "text/x-python",
   "name": "python",
   "nbconvert_exporter": "python",
   "pygments_lexer": "ipython3",
   "version": "3.7.3"
  },
  "pycharm": {
   "stem_cell": {
    "cell_type": "raw",
    "metadata": {
     "collapsed": false
    },
    "source": []
   }
  }
 },
 "nbformat": 4,
 "nbformat_minor": 2
}
