{
 "cells": [
  {
   "cell_type": "code",
   "execution_count": 43,
   "metadata": {},
   "outputs": [
    {
     "name": "stdout",
     "output_type": "stream",
     "text": [
      "Requirement already satisfied: openpyxl in d:\\programdata\\anaconda3\\envs\\gae\\lib\\site-packages (3.0.10)\n",
      "Requirement already satisfied: et-xmlfile in d:\\programdata\\anaconda3\\envs\\gae\\lib\\site-packages (from openpyxl) (1.1.0)\n"
     ]
    }
   ],
   "source": [
    "!pip install openpyxl \n",
    "import os\n",
    "import numpy as np\n",
    "import pandas as pd\n",
    "import librosa as lb\n",
    "import IPython.display as ipd\n",
    "import matplotlib.pyplot as plt\n",
    "import tensorflow as tf\n",
    "from tensorflow import keras\n",
    "from tensorflow.keras import Sequential, layers\n",
    "from tensorflow.keras.utils import to_categorical\n",
    "from sklearn.model_selection import train_test_split\n",
    "from sklearn.metrics import confusion_matrix, classification_report\n",
    "from tqdm import tqdm\n",
    "import warnings\n",
    "warnings.filterwarnings('ignore')"
   ]
  },
  {
   "cell_type": "code",
   "execution_count": 2,
   "metadata": {},
   "outputs": [
    {
     "data": {
      "text/html": [
       "<div>\n",
       "<style scoped>\n",
       "    .dataframe tbody tr th:only-of-type {\n",
       "        vertical-align: middle;\n",
       "    }\n",
       "\n",
       "    .dataframe tbody tr th {\n",
       "        vertical-align: top;\n",
       "    }\n",
       "\n",
       "    .dataframe thead th {\n",
       "        text-align: right;\n",
       "    }\n",
       "</style>\n",
       "<table border=\"1\" class=\"dataframe\">\n",
       "  <thead>\n",
       "    <tr style=\"text-align: right;\">\n",
       "      <th></th>\n",
       "      <th>Date</th>\n",
       "      <th>Time (GMT)</th>\n",
       "      <th>Unnamed: 2</th>\n",
       "      <th>File name</th>\n",
       "      <th>File URL</th>\n",
       "      <th>Unnamed: 5</th>\n",
       "      <th>Owner</th>\n",
       "      <th>Gun Shot (Y/N)</th>\n",
       "      <th>Type of Sound (Gunshot, Unclear, etc.)</th>\n",
       "    </tr>\n",
       "  </thead>\n",
       "  <tbody>\n",
       "    <tr>\n",
       "      <th>0</th>\n",
       "      <td>6/29/2022</td>\n",
       "      <td>0:59:58</td>\n",
       "      <td>88244</td>\n",
       "      <td>Sample-1 (Tue Jun 28 17:59:55 2022).wav</td>\n",
       "      <td>https://phoenix-pd-gunshot-wav-files.s3.us-wes...</td>\n",
       "      <td>https://phoenix-pd-gunshot-wav-files.s3.us-wes...</td>\n",
       "      <td>Nilo</td>\n",
       "      <td>Y</td>\n",
       "      <td>Gunshot</td>\n",
       "    </tr>\n",
       "    <tr>\n",
       "      <th>1</th>\n",
       "      <td>6/29/2022</td>\n",
       "      <td>15:30:09</td>\n",
       "      <td>88244</td>\n",
       "      <td>Sample-1 (Wed Jun 29 08:30:07 2022).wav</td>\n",
       "      <td>https://phoenix-pd-gunshot-wav-files.s3.us-wes...</td>\n",
       "      <td>NaN</td>\n",
       "      <td>Nilo</td>\n",
       "      <td>N</td>\n",
       "      <td>Rain</td>\n",
       "    </tr>\n",
       "    <tr>\n",
       "      <th>2</th>\n",
       "      <td>6/29/2022</td>\n",
       "      <td>15:34:39</td>\n",
       "      <td>88244</td>\n",
       "      <td>Sample-2 (Wed Jun 29 08:34:37 2022).wav</td>\n",
       "      <td>https://phoenix-pd-gunshot-wav-files.s3.us-wes...</td>\n",
       "      <td>NaN</td>\n",
       "      <td>Nilo</td>\n",
       "      <td>N</td>\n",
       "      <td>Muffled sound</td>\n",
       "    </tr>\n",
       "    <tr>\n",
       "      <th>3</th>\n",
       "      <td>6/29/2022</td>\n",
       "      <td>15:50:33</td>\n",
       "      <td>88244</td>\n",
       "      <td>Sample-3 (Wed Jun 29 08:50:31 2022).wav</td>\n",
       "      <td>https://phoenix-pd-gunshot-wav-files.s3.us-wes...</td>\n",
       "      <td>NaN</td>\n",
       "      <td>Nilo</td>\n",
       "      <td>N</td>\n",
       "      <td>Muffled sound</td>\n",
       "    </tr>\n",
       "    <tr>\n",
       "      <th>4</th>\n",
       "      <td>6/29/2022</td>\n",
       "      <td>17:03:12</td>\n",
       "      <td>88244</td>\n",
       "      <td>Sample-3 (Wed Jun 29 10:03:10 2022).wav</td>\n",
       "      <td>https://phoenix-pd-gunshot-wav-files.s3.us-wes...</td>\n",
       "      <td>NaN</td>\n",
       "      <td>Nilo</td>\n",
       "      <td>N</td>\n",
       "      <td>Static/none</td>\n",
       "    </tr>\n",
       "  </tbody>\n",
       "</table>\n",
       "</div>"
      ],
      "text/plain": [
       "        Date Time (GMT)  Unnamed: 2                                File name  \\\n",
       "0  6/29/2022    0:59:58       88244  Sample-1 (Tue Jun 28 17:59:55 2022).wav   \n",
       "1  6/29/2022   15:30:09       88244  Sample-1 (Wed Jun 29 08:30:07 2022).wav   \n",
       "2  6/29/2022   15:34:39       88244  Sample-2 (Wed Jun 29 08:34:37 2022).wav   \n",
       "3  6/29/2022   15:50:33       88244  Sample-3 (Wed Jun 29 08:50:31 2022).wav   \n",
       "4  6/29/2022   17:03:12       88244  Sample-3 (Wed Jun 29 10:03:10 2022).wav   \n",
       "\n",
       "                                            File URL  \\\n",
       "0  https://phoenix-pd-gunshot-wav-files.s3.us-wes...   \n",
       "1  https://phoenix-pd-gunshot-wav-files.s3.us-wes...   \n",
       "2  https://phoenix-pd-gunshot-wav-files.s3.us-wes...   \n",
       "3  https://phoenix-pd-gunshot-wav-files.s3.us-wes...   \n",
       "4  https://phoenix-pd-gunshot-wav-files.s3.us-wes...   \n",
       "\n",
       "                                          Unnamed: 5 Owner Gun Shot (Y/N)  \\\n",
       "0  https://phoenix-pd-gunshot-wav-files.s3.us-wes...  Nilo              Y   \n",
       "1                                                NaN  Nilo              N   \n",
       "2                                                NaN  Nilo              N   \n",
       "3                                                NaN  Nilo              N   \n",
       "4                                                NaN  Nilo              N   \n",
       "\n",
       "  Type of Sound (Gunshot, Unclear, etc.)  \n",
       "0                                Gunshot  \n",
       "1                                   Rain  \n",
       "2                          Muffled sound  \n",
       "3                          Muffled sound  \n",
       "4                            Static/none  "
      ]
     },
     "execution_count": 2,
     "metadata": {},
     "output_type": "execute_result"
    }
   ],
   "source": [
    "raw_gunshot = pd.read_csv('gunshot_data_csv.csv')\n",
    "raw_gunshot.head()"
   ]
  },
  {
   "cell_type": "code",
   "execution_count": 3,
   "metadata": {},
   "outputs": [
    {
     "data": {
      "text/html": [
       "<div>\n",
       "<style scoped>\n",
       "    .dataframe tbody tr th:only-of-type {\n",
       "        vertical-align: middle;\n",
       "    }\n",
       "\n",
       "    .dataframe tbody tr th {\n",
       "        vertical-align: top;\n",
       "    }\n",
       "\n",
       "    .dataframe thead th {\n",
       "        text-align: right;\n",
       "    }\n",
       "</style>\n",
       "<table border=\"1\" class=\"dataframe\">\n",
       "  <thead>\n",
       "    <tr style=\"text-align: right;\">\n",
       "      <th></th>\n",
       "      <th>Unnamed: 0</th>\n",
       "      <th>Date</th>\n",
       "      <th>Time (GMT)</th>\n",
       "      <th>Unnamed: 2</th>\n",
       "      <th>File name</th>\n",
       "      <th>File URL</th>\n",
       "      <th>Unnamed: 5</th>\n",
       "      <th>Owner</th>\n",
       "      <th>Gun Shot (Y/N)</th>\n",
       "      <th>Class_Gunshot</th>\n",
       "      <th>Class_Not Gunshot</th>\n",
       "    </tr>\n",
       "  </thead>\n",
       "  <tbody>\n",
       "    <tr>\n",
       "      <th>0</th>\n",
       "      <td>0</td>\n",
       "      <td>2022-06-29</td>\n",
       "      <td>00:59:58</td>\n",
       "      <td>88244</td>\n",
       "      <td>Sample-1 (Tue Jun 28 17:59:55 2022).wav</td>\n",
       "      <td>https://phoenix-pd-gunshot-wav-files.s3.us-wes...</td>\n",
       "      <td>https://phoenix-pd-gunshot-wav-files.s3.us-wes...</td>\n",
       "      <td>Nilo</td>\n",
       "      <td>Y</td>\n",
       "      <td>1</td>\n",
       "      <td>0</td>\n",
       "    </tr>\n",
       "    <tr>\n",
       "      <th>1</th>\n",
       "      <td>1</td>\n",
       "      <td>2022-06-29</td>\n",
       "      <td>15:30:09</td>\n",
       "      <td>88244</td>\n",
       "      <td>Sample-1 (Wed Jun 29 08:30:07 2022).wav</td>\n",
       "      <td>https://phoenix-pd-gunshot-wav-files.s3.us-wes...</td>\n",
       "      <td>NaN</td>\n",
       "      <td>Nilo</td>\n",
       "      <td>N</td>\n",
       "      <td>0</td>\n",
       "      <td>1</td>\n",
       "    </tr>\n",
       "    <tr>\n",
       "      <th>2</th>\n",
       "      <td>2</td>\n",
       "      <td>2022-06-29</td>\n",
       "      <td>15:34:39</td>\n",
       "      <td>88244</td>\n",
       "      <td>Sample-2 (Wed Jun 29 08:34:37 2022).wav</td>\n",
       "      <td>https://phoenix-pd-gunshot-wav-files.s3.us-wes...</td>\n",
       "      <td>NaN</td>\n",
       "      <td>Nilo</td>\n",
       "      <td>N</td>\n",
       "      <td>0</td>\n",
       "      <td>1</td>\n",
       "    </tr>\n",
       "    <tr>\n",
       "      <th>3</th>\n",
       "      <td>3</td>\n",
       "      <td>2022-06-29</td>\n",
       "      <td>15:50:33</td>\n",
       "      <td>88244</td>\n",
       "      <td>Sample-3 (Wed Jun 29 08:50:31 2022).wav</td>\n",
       "      <td>https://phoenix-pd-gunshot-wav-files.s3.us-wes...</td>\n",
       "      <td>NaN</td>\n",
       "      <td>Nilo</td>\n",
       "      <td>N</td>\n",
       "      <td>0</td>\n",
       "      <td>1</td>\n",
       "    </tr>\n",
       "    <tr>\n",
       "      <th>4</th>\n",
       "      <td>4</td>\n",
       "      <td>2022-06-29</td>\n",
       "      <td>17:03:12</td>\n",
       "      <td>88244</td>\n",
       "      <td>Sample-3 (Wed Jun 29 10:03:10 2022).wav</td>\n",
       "      <td>https://phoenix-pd-gunshot-wav-files.s3.us-wes...</td>\n",
       "      <td>NaN</td>\n",
       "      <td>Nilo</td>\n",
       "      <td>N</td>\n",
       "      <td>0</td>\n",
       "      <td>1</td>\n",
       "    </tr>\n",
       "  </tbody>\n",
       "</table>\n",
       "</div>"
      ],
      "text/plain": [
       "   Unnamed: 0       Date Time (GMT)  Unnamed: 2  \\\n",
       "0           0 2022-06-29   00:59:58       88244   \n",
       "1           1 2022-06-29   15:30:09       88244   \n",
       "2           2 2022-06-29   15:34:39       88244   \n",
       "3           3 2022-06-29   15:50:33       88244   \n",
       "4           4 2022-06-29   17:03:12       88244   \n",
       "\n",
       "                                 File name  \\\n",
       "0  Sample-1 (Tue Jun 28 17:59:55 2022).wav   \n",
       "1  Sample-1 (Wed Jun 29 08:30:07 2022).wav   \n",
       "2  Sample-2 (Wed Jun 29 08:34:37 2022).wav   \n",
       "3  Sample-3 (Wed Jun 29 08:50:31 2022).wav   \n",
       "4  Sample-3 (Wed Jun 29 10:03:10 2022).wav   \n",
       "\n",
       "                                            File URL  \\\n",
       "0  https://phoenix-pd-gunshot-wav-files.s3.us-wes...   \n",
       "1  https://phoenix-pd-gunshot-wav-files.s3.us-wes...   \n",
       "2  https://phoenix-pd-gunshot-wav-files.s3.us-wes...   \n",
       "3  https://phoenix-pd-gunshot-wav-files.s3.us-wes...   \n",
       "4  https://phoenix-pd-gunshot-wav-files.s3.us-wes...   \n",
       "\n",
       "                                          Unnamed: 5 Owner Gun Shot (Y/N)  \\\n",
       "0  https://phoenix-pd-gunshot-wav-files.s3.us-wes...  Nilo              Y   \n",
       "1                                                NaN  Nilo              N   \n",
       "2                                                NaN  Nilo              N   \n",
       "3                                                NaN  Nilo              N   \n",
       "4                                                NaN  Nilo              N   \n",
       "\n",
       "   Class_Gunshot  Class_Not Gunshot  \n",
       "0              1                  0  \n",
       "1              0                  1  \n",
       "2              0                  1  \n",
       "3              0                  1  \n",
       "4              0                  1  "
      ]
     },
     "execution_count": 3,
     "metadata": {},
     "output_type": "execute_result"
    }
   ],
   "source": [
    "one_hot = pd.read_excel('one_hot_encoded_cic.xlsx')\n",
    "one_hot.head()"
   ]
  },
  {
   "cell_type": "code",
   "execution_count": 4,
   "metadata": {},
   "outputs": [
    {
     "name": "stdout",
     "output_type": "stream",
     "text": [
      "Requirement already satisfied: wget in d:\\programdata\\anaconda3\\envs\\gae\\lib\\site-packages (3.2)\n"
     ]
    }
   ],
   "source": [
    "!pip install wget\n",
    "import wget\n",
    "import os\n",
    "# download files from above csv\n",
    "# manually download more gunshot examples from online datasets cited below\n",
    "# TODO: Add links or better automate it\n",
    "for index, row in one_hot.iterrows():\n",
    "    URL = row['File URL']\n",
    "    prefix = './gunshots/' if row['Gun Shot (Y/N)'] == 'Y' else './non-gunshots/'\n",
    "    fileName = prefix + str(index) + '.wav'\n",
    "    if os.path.exists(fileName):\n",
    "        continue\n",
    "    response = wget.download(URL, fileName)"
   ]
  },
  {
   "cell_type": "code",
   "execution_count": 5,
   "metadata": {},
   "outputs": [],
   "source": [
    "def feature_extractor(path):\n",
    "    data, simple_rate = lb.load(path)\n",
    "    data = lb.feature.mfcc(y=data, n_mfcc=128)\n",
    "    data = np.mean(data,axis=1)\n",
    "    return data"
   ]
  },
  {
   "cell_type": "code",
   "execution_count": 24,
   "metadata": {},
   "outputs": [],
   "source": [
    "import random\n",
    "filepaths = []\n",
    "num_gunshots = len(os.listdir('./gunshots/'))\n",
    "non_gunshots = [{'isGunshot': False, 'file':x} for x in os.listdir('./non-gunshots/')]\n",
    "\n",
    "# equal number of gunshots and non gunshots\n",
    "filepaths.extend([{'isGunshot': True, 'file':x} for x in os.listdir('./gunshots/')])\n",
    "filepaths.extend(random.sample(non_gunshots, num_gunshots))"
   ]
  },
  {
   "cell_type": "code",
   "execution_count": 44,
   "metadata": {},
   "outputs": [
    {
     "name": "stdout",
     "output_type": "stream",
     "text": [
      "spectogram count = 1025\n",
      "total zero crossings = 26\n",
      "Normalized Spectral centroid shape -> (87,)\n",
      "Normalized Spectral Rolloff shape -> (87,)\n",
      "-------------------------------------\n",
      "spectogram count = 1025\n",
      "total zero crossings = 2306\n",
      "Normalized Spectral centroid shape -> (92,)\n",
      "Normalized Spectral Rolloff shape -> (92,)\n",
      "-------------------------------------\n",
      "spectogram count = 1025\n",
      "total zero crossings = 2590\n",
      "Normalized Spectral centroid shape -> (86,)\n",
      "Normalized Spectral Rolloff shape -> (86,)\n",
      "-------------------------------------\n"
     ]
    }
   ],
   "source": [
    "import sklearn\n",
    "def normalize(x, axis=0):\n",
    "    return sklearn.preprocessing.minmax_scale(x, axis=axis)\n",
    "# gather spectogram\n",
    "for _ in range(3):\n",
    "    rows = random.choice(filepaths)\n",
    "    directory = './gunshots/' if rows['isGunshot'] else './non-gunshots'\n",
    "    path = directory + '/' + str(rows['file'])\n",
    "    x , sr = lb.load(path)\n",
    "    \n",
    "    spectogram = lb.stft(x)\n",
    "    spectogram_db = lb.amplitude_to_db(abs(spectogram))\n",
    "    print(f'spectogram count = {len(spectogram_db)}')\n",
    "    \n",
    "    zero_crossings = lb.zero_crossings(x, pad=False)\n",
    "    print(f'total zero crossings = {sum(zero_crossings)}')\n",
    "    \n",
    "    #spectral centroid -- centre of mass -- weighted mean of the frequencies present in the sound\n",
    "    spectral_centroids = lb.feature.spectral_centroid(x, sr=sr)[0]\n",
    "    # Computing the time variable for visualization\n",
    "    frames = range(len(spectral_centroids))\n",
    "    t = lb.frames_to_time(frames)\n",
    "    # Normalising the spectral centroid \n",
    "    normlaized_spectral_centroid = normalize(spectral_centroids)\n",
    "    print(f'Normalized Spectral centroid shape -> {normlaized_spectral_centroid.shape}')\n",
    "    \n",
    "    spectral_rolloff = lb.feature.spectral_rolloff(x, sr=sr)[0]\n",
    "    normalized_spectral_rolloff = normalize(spectral_rolloff)\n",
    "    print(f'Normalized Spectral Rolloff shape -> {normalized_spectral_rolloff.shape}')\n",
    "    print('-------------------------------------')"
   ]
  },
  {
   "cell_type": "code",
   "execution_count": 25,
   "metadata": {},
   "outputs": [
    {
     "name": "stderr",
     "output_type": "stream",
     "text": [
      " 19%|█▉        | 964/5052 [05:05<16:57,  4.02it/s]  d:\\ProgramData\\Anaconda3\\envs\\gae\\lib\\site-packages\\librosa\\util\\decorators.py:88: UserWarning: PySoundFile failed. Trying audioread instead.\n",
      "  return f(*args, **kwargs)\n",
      " 19%|█▉        | 966/5052 [05:09<1:02:01,  1.10it/s]"
     ]
    },
    {
     "name": "stdout",
     "output_type": "stream",
     "text": [
      "\n"
     ]
    },
    {
     "name": "stderr",
     "output_type": "stream",
     "text": [
      "100%|██████████| 5052/5052 [10:30<00:00,  8.01it/s] \n"
     ]
    },
    {
     "data": {
      "text/plain": [
       "((5051, 128), (5051,))"
      ]
     },
     "execution_count": 25,
     "metadata": {},
     "output_type": "execute_result"
    }
   ],
   "source": [
    "x, y = [], []\n",
    "for rows in tqdm(filepaths):\n",
    "    try:\n",
    "        directory = './gunshots/' if rows['isGunshot'] else './non-gunshots'\n",
    "        path = directory + '/' + str(rows['file'])\n",
    "        x.append(feature_extractor(path))\n",
    "        y.append(1 if rows['isGunshot'] else 0)\n",
    "    except Exception as e:\n",
    "        print(e)\n",
    "x = np.array(x)\n",
    "y = np.array(y)\n",
    "x.shape, y.shape"
   ]
  },
  {
   "cell_type": "code",
   "execution_count": 26,
   "metadata": {},
   "outputs": [
    {
     "data": {
      "text/plain": [
       "(5051, 2)"
      ]
     },
     "execution_count": 26,
     "metadata": {},
     "output_type": "execute_result"
    }
   ],
   "source": [
    "y = to_categorical(y)\n",
    "y.shape"
   ]
  },
  {
   "cell_type": "code",
   "execution_count": 27,
   "metadata": {},
   "outputs": [
    {
     "name": "stdout",
     "output_type": "stream",
     "text": [
      "\n",
      "Number of samples for Train set : 3636\n",
      "Number of samples for Validation set : 909\n",
      "Number of samples for Test set : 506\n"
     ]
    }
   ],
   "source": [
    "xtrainval, xtest, ytrainval, ytest = train_test_split(x,y,test_size=0.1,stratify=y,random_state=387)\n",
    "xtrain, xvalid, ytrain, yvalid = train_test_split(xtrainval,ytrainval,test_size=0.2,stratify=ytrainval,random_state=387)\n",
    "print('\\nNumber of samples for Train set :',xtrain.shape[0])\n",
    "print('Number of samples for Validation set :',xvalid.shape[0])\n",
    "print('Number of samples for Test set :',xtest.shape[0])\n"
   ]
  },
  {
   "cell_type": "code",
   "execution_count": 28,
   "metadata": {},
   "outputs": [
    {
     "name": "stdout",
     "output_type": "stream",
     "text": [
      "Model: \"sequential_1\"\n",
      "_________________________________________________________________\n",
      " Layer (type)                Output Shape              Param #   \n",
      "=================================================================\n",
      " dense_8 (Dense)             (None, 1000)              129000    \n",
      "                                                                 \n",
      " dense_9 (Dense)             (None, 750)               750750    \n",
      "                                                                 \n",
      " dense_10 (Dense)            (None, 500)               375500    \n",
      "                                                                 \n",
      " dense_11 (Dense)            (None, 250)               125250    \n",
      "                                                                 \n",
      " dense_12 (Dense)            (None, 100)               25100     \n",
      "                                                                 \n",
      " dense_13 (Dense)            (None, 50)                5050      \n",
      "                                                                 \n",
      " dense_14 (Dense)            (None, 10)                510       \n",
      "                                                                 \n",
      " dense_15 (Dense)            (None, 2)                 22        \n",
      "                                                                 \n",
      "=================================================================\n",
      "Total params: 1,411,182\n",
      "Trainable params: 1,411,182\n",
      "Non-trainable params: 0\n",
      "_________________________________________________________________\n"
     ]
    }
   ],
   "source": [
    "model = Sequential(\n",
    "                        [\n",
    "                            layers.Dense(1000,activation='relu',input_shape=(128,)),\n",
    "                            layers.Dense(750,activation='relu'),\n",
    "                            layers.Dense(500,activation='relu'),\n",
    "                            layers.Dense(250,activation='relu'),\n",
    "                            layers.Dense(100,activation='relu'),\n",
    "                            layers.Dense(50,activation='relu'),\n",
    "                            layers.Dense(10,activation='relu'),\n",
    "                            layers.Dense(2,activation='softmax')\n",
    "                        ]\n",
    "                   )\n",
    "model.summary()"
   ]
  },
  {
   "cell_type": "code",
   "execution_count": 29,
   "metadata": {},
   "outputs": [
    {
     "name": "stdout",
     "output_type": "stream",
     "text": [
      "Epoch 1/20\n",
      "114/114 [==============================] - 3s 20ms/step - loss: 0.3691 - accuracy: 0.9211 - val_loss: 0.1305 - val_accuracy: 0.9659\n",
      "Epoch 2/20\n",
      "114/114 [==============================] - 2s 18ms/step - loss: 0.0886 - accuracy: 0.9684 - val_loss: 0.1274 - val_accuracy: 0.9659\n",
      "Epoch 3/20\n",
      "114/114 [==============================] - 2s 17ms/step - loss: 0.1105 - accuracy: 0.9689 - val_loss: 0.0882 - val_accuracy: 0.9681\n",
      "Epoch 4/20\n",
      "114/114 [==============================] - 2s 18ms/step - loss: 0.0707 - accuracy: 0.9722 - val_loss: 0.0796 - val_accuracy: 0.9747\n",
      "Epoch 5/20\n",
      "114/114 [==============================] - 2s 17ms/step - loss: 0.0634 - accuracy: 0.9761 - val_loss: 0.1181 - val_accuracy: 0.9659\n",
      "Epoch 6/20\n",
      "114/114 [==============================] - 2s 18ms/step - loss: 0.0614 - accuracy: 0.9766 - val_loss: 0.0798 - val_accuracy: 0.9725\n",
      "Epoch 7/20\n",
      "114/114 [==============================] - 2s 17ms/step - loss: 0.0622 - accuracy: 0.9755 - val_loss: 0.0709 - val_accuracy: 0.9747\n",
      "Epoch 8/20\n",
      "114/114 [==============================] - 2s 18ms/step - loss: 0.0615 - accuracy: 0.9739 - val_loss: 0.0920 - val_accuracy: 0.9670\n",
      "Epoch 9/20\n",
      "114/114 [==============================] - 2s 17ms/step - loss: 0.0662 - accuracy: 0.9755 - val_loss: 0.1229 - val_accuracy: 0.9659\n",
      "Epoch 10/20\n",
      "114/114 [==============================] - 2s 17ms/step - loss: 0.0537 - accuracy: 0.9794 - val_loss: 0.0765 - val_accuracy: 0.9780\n",
      "Epoch 11/20\n",
      "114/114 [==============================] - 2s 18ms/step - loss: 0.0557 - accuracy: 0.9766 - val_loss: 0.0749 - val_accuracy: 0.9670\n",
      "Epoch 12/20\n",
      "114/114 [==============================] - 2s 18ms/step - loss: 0.0543 - accuracy: 0.9763 - val_loss: 0.0982 - val_accuracy: 0.9692\n",
      "Epoch 13/20\n",
      "114/114 [==============================] - 2s 17ms/step - loss: 0.0513 - accuracy: 0.9791 - val_loss: 0.0667 - val_accuracy: 0.9780\n",
      "Epoch 14/20\n",
      "114/114 [==============================] - 2s 18ms/step - loss: 0.0578 - accuracy: 0.9788 - val_loss: 0.0634 - val_accuracy: 0.9780\n",
      "Epoch 15/20\n",
      "114/114 [==============================] - 2s 18ms/step - loss: 0.0494 - accuracy: 0.9813 - val_loss: 0.0685 - val_accuracy: 0.9758\n",
      "Epoch 16/20\n",
      "114/114 [==============================] - 2s 18ms/step - loss: 0.0498 - accuracy: 0.9796 - val_loss: 0.0670 - val_accuracy: 0.9758\n",
      "Epoch 17/20\n",
      "114/114 [==============================] - 2s 18ms/step - loss: 0.0489 - accuracy: 0.9805 - val_loss: 0.0613 - val_accuracy: 0.9791\n",
      "Epoch 18/20\n",
      "114/114 [==============================] - 2s 17ms/step - loss: 0.0513 - accuracy: 0.9785 - val_loss: 0.0668 - val_accuracy: 0.9692\n",
      "Epoch 19/20\n",
      "114/114 [==============================] - 2s 18ms/step - loss: 0.0457 - accuracy: 0.9802 - val_loss: 0.0631 - val_accuracy: 0.9813\n",
      "Epoch 20/20\n",
      "114/114 [==============================] - 2s 18ms/step - loss: 0.0416 - accuracy: 0.9824 - val_loss: 0.0542 - val_accuracy: 0.9835\n"
     ]
    }
   ],
   "source": [
    "model.compile(loss='categorical_crossentropy',optimizer='adam',metrics=['accuracy'])\n",
    "training = model.fit(xtrain,ytrain,validation_data=(xvalid,yvalid),epochs=20)"
   ]
  },
  {
   "cell_type": "code",
   "execution_count": 30,
   "metadata": {},
   "outputs": [
    {
     "data": {
      "text/html": [
       "<div>\n",
       "<style scoped>\n",
       "    .dataframe tbody tr th:only-of-type {\n",
       "        vertical-align: middle;\n",
       "    }\n",
       "\n",
       "    .dataframe tbody tr th {\n",
       "        vertical-align: top;\n",
       "    }\n",
       "\n",
       "    .dataframe thead th {\n",
       "        text-align: right;\n",
       "    }\n",
       "</style>\n",
       "<table border=\"1\" class=\"dataframe\">\n",
       "  <thead>\n",
       "    <tr style=\"text-align: right;\">\n",
       "      <th></th>\n",
       "      <th>loss</th>\n",
       "      <th>accuracy</th>\n",
       "      <th>val_loss</th>\n",
       "      <th>val_accuracy</th>\n",
       "    </tr>\n",
       "  </thead>\n",
       "  <tbody>\n",
       "    <tr>\n",
       "      <th>0</th>\n",
       "      <td>0.369100</td>\n",
       "      <td>0.921067</td>\n",
       "      <td>0.130490</td>\n",
       "      <td>0.965897</td>\n",
       "    </tr>\n",
       "    <tr>\n",
       "      <th>1</th>\n",
       "      <td>0.088557</td>\n",
       "      <td>0.968372</td>\n",
       "      <td>0.127411</td>\n",
       "      <td>0.965897</td>\n",
       "    </tr>\n",
       "    <tr>\n",
       "      <th>2</th>\n",
       "      <td>0.110485</td>\n",
       "      <td>0.968922</td>\n",
       "      <td>0.088186</td>\n",
       "      <td>0.968097</td>\n",
       "    </tr>\n",
       "    <tr>\n",
       "      <th>3</th>\n",
       "      <td>0.070674</td>\n",
       "      <td>0.972222</td>\n",
       "      <td>0.079650</td>\n",
       "      <td>0.974697</td>\n",
       "    </tr>\n",
       "    <tr>\n",
       "      <th>4</th>\n",
       "      <td>0.063361</td>\n",
       "      <td>0.976073</td>\n",
       "      <td>0.118128</td>\n",
       "      <td>0.965897</td>\n",
       "    </tr>\n",
       "    <tr>\n",
       "      <th>5</th>\n",
       "      <td>0.061396</td>\n",
       "      <td>0.976623</td>\n",
       "      <td>0.079788</td>\n",
       "      <td>0.972497</td>\n",
       "    </tr>\n",
       "    <tr>\n",
       "      <th>6</th>\n",
       "      <td>0.062199</td>\n",
       "      <td>0.975523</td>\n",
       "      <td>0.070886</td>\n",
       "      <td>0.974697</td>\n",
       "    </tr>\n",
       "    <tr>\n",
       "      <th>7</th>\n",
       "      <td>0.061532</td>\n",
       "      <td>0.973872</td>\n",
       "      <td>0.092034</td>\n",
       "      <td>0.966997</td>\n",
       "    </tr>\n",
       "    <tr>\n",
       "      <th>8</th>\n",
       "      <td>0.066217</td>\n",
       "      <td>0.975523</td>\n",
       "      <td>0.122938</td>\n",
       "      <td>0.965897</td>\n",
       "    </tr>\n",
       "    <tr>\n",
       "      <th>9</th>\n",
       "      <td>0.053734</td>\n",
       "      <td>0.979373</td>\n",
       "      <td>0.076512</td>\n",
       "      <td>0.977998</td>\n",
       "    </tr>\n",
       "    <tr>\n",
       "      <th>10</th>\n",
       "      <td>0.055654</td>\n",
       "      <td>0.976623</td>\n",
       "      <td>0.074920</td>\n",
       "      <td>0.966997</td>\n",
       "    </tr>\n",
       "    <tr>\n",
       "      <th>11</th>\n",
       "      <td>0.054261</td>\n",
       "      <td>0.976348</td>\n",
       "      <td>0.098208</td>\n",
       "      <td>0.969197</td>\n",
       "    </tr>\n",
       "    <tr>\n",
       "      <th>12</th>\n",
       "      <td>0.051325</td>\n",
       "      <td>0.979098</td>\n",
       "      <td>0.066651</td>\n",
       "      <td>0.977998</td>\n",
       "    </tr>\n",
       "    <tr>\n",
       "      <th>13</th>\n",
       "      <td>0.057797</td>\n",
       "      <td>0.978823</td>\n",
       "      <td>0.063381</td>\n",
       "      <td>0.977998</td>\n",
       "    </tr>\n",
       "    <tr>\n",
       "      <th>14</th>\n",
       "      <td>0.049364</td>\n",
       "      <td>0.981298</td>\n",
       "      <td>0.068524</td>\n",
       "      <td>0.975798</td>\n",
       "    </tr>\n",
       "    <tr>\n",
       "      <th>15</th>\n",
       "      <td>0.049767</td>\n",
       "      <td>0.979648</td>\n",
       "      <td>0.066992</td>\n",
       "      <td>0.975798</td>\n",
       "    </tr>\n",
       "    <tr>\n",
       "      <th>16</th>\n",
       "      <td>0.048881</td>\n",
       "      <td>0.980473</td>\n",
       "      <td>0.061302</td>\n",
       "      <td>0.979098</td>\n",
       "    </tr>\n",
       "    <tr>\n",
       "      <th>17</th>\n",
       "      <td>0.051327</td>\n",
       "      <td>0.978548</td>\n",
       "      <td>0.066751</td>\n",
       "      <td>0.969197</td>\n",
       "    </tr>\n",
       "    <tr>\n",
       "      <th>18</th>\n",
       "      <td>0.045742</td>\n",
       "      <td>0.980198</td>\n",
       "      <td>0.063127</td>\n",
       "      <td>0.981298</td>\n",
       "    </tr>\n",
       "    <tr>\n",
       "      <th>19</th>\n",
       "      <td>0.041620</td>\n",
       "      <td>0.982398</td>\n",
       "      <td>0.054235</td>\n",
       "      <td>0.983498</td>\n",
       "    </tr>\n",
       "  </tbody>\n",
       "</table>\n",
       "</div>"
      ],
      "text/plain": [
       "        loss  accuracy  val_loss  val_accuracy\n",
       "0   0.369100  0.921067  0.130490      0.965897\n",
       "1   0.088557  0.968372  0.127411      0.965897\n",
       "2   0.110485  0.968922  0.088186      0.968097\n",
       "3   0.070674  0.972222  0.079650      0.974697\n",
       "4   0.063361  0.976073  0.118128      0.965897\n",
       "5   0.061396  0.976623  0.079788      0.972497\n",
       "6   0.062199  0.975523  0.070886      0.974697\n",
       "7   0.061532  0.973872  0.092034      0.966997\n",
       "8   0.066217  0.975523  0.122938      0.965897\n",
       "9   0.053734  0.979373  0.076512      0.977998\n",
       "10  0.055654  0.976623  0.074920      0.966997\n",
       "11  0.054261  0.976348  0.098208      0.969197\n",
       "12  0.051325  0.979098  0.066651      0.977998\n",
       "13  0.057797  0.978823  0.063381      0.977998\n",
       "14  0.049364  0.981298  0.068524      0.975798\n",
       "15  0.049767  0.979648  0.066992      0.975798\n",
       "16  0.048881  0.980473  0.061302      0.979098\n",
       "17  0.051327  0.978548  0.066751      0.969197\n",
       "18  0.045742  0.980198  0.063127      0.981298\n",
       "19  0.041620  0.982398  0.054235      0.983498"
      ]
     },
     "execution_count": 30,
     "metadata": {},
     "output_type": "execute_result"
    }
   ],
   "source": [
    "train_hist = pd.DataFrame(training.history)\n",
    "train_hist"
   ]
  },
  {
   "cell_type": "code",
   "execution_count": 31,
   "metadata": {},
   "outputs": [
    {
     "data": {
      "image/png": "[encoded data removed]",
      "text/plain": [
       "<Figure size 1440x576 with 1 Axes>"
      ]
     },
     "metadata": {
      "needs_background": "light"
     },
     "output_type": "display_data"
    },
    {
     "data": {
      "image/png": "[encoded data removed]",
      "text/plain": [
       "<Figure size 1440x576 with 1 Axes>"
      ]
     },
     "metadata": {
      "needs_background": "light"
     },
     "output_type": "display_data"
    }
   ],
   "source": [
    "plt.figure(figsize=(20,8))\n",
    "plt.plot(train_hist[['loss','val_loss']])\n",
    "plt.legend(['loss','val_loss'])\n",
    "plt.title('Loss Per Epochs')\n",
    "plt.xlabel('Epochs')\n",
    "plt.ylabel('Loss')\n",
    "plt.show()\n",
    "\n",
    "plt.figure(figsize=(20,8))\n",
    "plt.plot(train_hist[['accuracy','val_accuracy']])\n",
    "plt.legend(['accuracy','val_accuracy'])\n",
    "plt.title('Accuracy Per Epochs')\n",
    "plt.xlabel('Epochs')\n",
    "plt.ylabel('Accuracy')\n",
    "plt.show()\n"
   ]
  },
  {
   "cell_type": "code",
   "execution_count": 32,
   "metadata": {},
   "outputs": [
    {
     "name": "stdout",
     "output_type": "stream",
     "text": [
      "\n",
      "Confusion Matrix :\n",
      "\n",
      "\n",
      "[[246   7]\n",
      " [  6 247]]\n",
      "\n",
      "\n",
      "Classification Report : \n",
      "\n",
      "               precision    recall  f1-score   support\n",
      "\n",
      "           0       0.98      0.97      0.97       253\n",
      "           1       0.97      0.98      0.97       253\n",
      "\n",
      "    accuracy                           0.97       506\n",
      "   macro avg       0.97      0.97      0.97       506\n",
      "weighted avg       0.97      0.97      0.97       506\n",
      "\n"
     ]
    }
   ],
   "source": [
    "ytrue = np.argmax(ytest,axis=1)\n",
    "ypred = np.argmax(model.predict(xtest),axis=1)\n",
    "print('\\nConfusion Matrix :\\n\\n')\n",
    "print(confusion_matrix(ytrue,ypred))\n",
    "print('\\n\\nClassification Report : \\n\\n',classification_report(ytrue,ypred))"
   ]
  },
  {
   "cell_type": "code",
   "execution_count": 33,
   "metadata": {},
   "outputs": [],
   "source": [
    "def predict(path, actual):\n",
    "    audio = np.array([feature_extractor(path)])\n",
    "    classid = np.argmax(model.predict(audio)[0])\n",
    "    # print('Class predicted :','gunshot' if classid else 'not a gunshot', 'and was', 'gunshot' if actual else 'not a gunshot','\\n\\n')\n",
    "    print(f\"For file at {path}, class predicted : {'gunshot' if classid else 'not a gunshot'} and was { 'gunshot' if actual else 'not a gunshot'}\")\n",
    "    return ipd.Audio(path)\n"
   ]
  },
  {
   "cell_type": "code",
   "execution_count": 37,
   "metadata": {},
   "outputs": [
    {
     "name": "stdout",
     "output_type": "stream",
     "text": [
      "For file at ./non-gunshots/1881.wav, class predicted : not a gunshot and was not a gunshot\n",
      "For file at ./gunshots//IP_174A_S05.wav, class predicted : gunshot and was gunshot\n",
      "For file at ./non-gunshots/2572.wav, class predicted : not a gunshot and was not a gunshot\n",
      "For file at ./gunshots//IP_116B_S02.wav, class predicted : gunshot and was gunshot\n",
      "For file at ./gunshots//4465.wav, class predicted : not a gunshot and was gunshot\n"
     ]
    }
   ],
   "source": [
    "import random\n",
    "samples = 5\n",
    "for _ in range(samples):\n",
    "    choice = random.choice(filepaths)\n",
    "    directory = './gunshots/' if choice['isGunshot'] else './non-gunshots'\n",
    "    path = directory + '/' + str(choice['file'])\n",
    "    predict(path, choice['isGunshot'])    "
   ]
  }
 ],
 "metadata": {
  "kernelspec": {
   "display_name": "Python 3.7.10 ('gae')",
   "language": "python",
   "name": "python3"
  },
  "language_info": {
   "codemirror_mode": {
    "name": "ipython",
    "version": 3
   },
   "file_extension": ".py",
   "mimetype": "text/x-python",
   "name": "python",
   "nbconvert_exporter": "python",
   "pygments_lexer": "ipython3",
   "version": "3.7.10"
  },
  "orig_nbformat": 4,
  "vscode": {
   "interpreter": {
    "hash": "0b1413259c67b10a593472e70b9d5008e5d5a6062c3c7f83963c90f91dac7b65"
   }
  }
 },
 "nbformat": 4,
 "nbformat_minor": 2
}
